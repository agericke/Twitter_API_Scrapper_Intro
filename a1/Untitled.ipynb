{
 "cells": [
  {
   "cell_type": "markdown",
   "metadata": {},
   "source": [
    "# CS579: Assignment 1\n",
    "<br>\n",
    "-  In this assignment, we'll implement community detection and link prediction algorithms using Facebook \"like\" data.\n",
    "<br><br>\n",
    "-  The file `edges.txt.gz` indicates like relationships between facebook users. This was collected using snowball sampling: beginning with the user \"Bill Gates\", I crawled all the people he \"likes\", then, for each newly discovered user, I crawled all the people they liked.\n",
    "<br><br>\n",
    "-  We'll cluster the resulting graph into communities, as well as recommend friends for Bill Gates.\n",
    "<br><br>\n",
    "-  Complete the **15** methods below that are indicated by `TODO`. I've provided some sample output to help guide your implementation.\n"
   ]
  },
  {
   "cell_type": "code",
   "execution_count": 3,
   "metadata": {},
   "outputs": [],
   "source": [
    "# You should not use any imports not listed here:\n",
    "from collections import Counter, defaultdict, deque\n",
    "import copy\n",
    "from itertools import combinations\n",
    "import math\n",
    "import networkx as nx\n",
    "import urllib.request"
   ]
  },
  {
   "cell_type": "code",
   "execution_count": 4,
   "metadata": {},
   "outputs": [],
   "source": [
    "## Community Detection\n",
    "\n",
    "def example_graph():\n",
    "    \"\"\"\n",
    "    Create the example graph from class. Used for testing.\n",
    "    Do not modify.\n",
    "    \"\"\"\n",
    "    g = nx.Graph()\n",
    "    g.add_edges_from([('A', 'B'), ('A', 'C'), ('B', 'C'), ('B', 'D'), ('D', 'E'), ('D', 'F'), ('D', 'G'), ('E', 'F'), ('G', 'F')])\n",
    "    return g"
   ]
  },
  {
   "cell_type": "code",
   "execution_count": null,
   "metadata": {},
   "outputs": [],
   "source": [
    "def bfs(graph, root, max_depth):\n",
    "    \"\"\"\n",
    "    Perform breadth-first search to compute the shortest paths from a root node to all\n",
    "    other nodes in the graph. To reduce running time, the max_depth parameter ends\n",
    "    the search after the specified depth.\n",
    "    E.g., if max_depth=2, only paths of length 2 or less will be considered.\n",
    "    This means that nodes greather than max_depth distance from the root will not\n",
    "    appear in the result.\n",
    "\n",
    "    You may use these two classes to help with this implementation:\n",
    "      https://docs.python.org/3.5/library/collections.html#collections.defaultdict\n",
    "      https://docs.python.org/3.5/library/collections.html#collections.deque\n",
    "\n",
    "    Params:\n",
    "      graph.......A networkx Graph\n",
    "      root........The root node in the search graph (a string). We are computing\n",
    "                  shortest paths from this node to all others.\n",
    "      max_depth...An integer representing the maximum depth to search.\n",
    "\n",
    "    Returns:\n",
    "      node2distances...dict from each node to the length of the shortest path from\n",
    "                       the root node\n",
    "      node2num_paths...dict from each node to the number of shortest paths from the\n",
    "                       root node to this node.\n",
    "      node2parents.....dict from each node to the list of its parents in the search\n",
    "                       tree\n",
    "\n",
    "    In the doctests below, we first try with max_depth=5, then max_depth=2.\n",
    "\n",
    "    >>> node2distances, node2num_paths, node2parents = bfs(example_graph(), 'E', 5)\n",
    "    >>> sorted(node2distances.items())\n",
    "    [('A', 3), ('B', 2), ('C', 3), ('D', 1), ('E', 0), ('F', 1), ('G', 2)]\n",
    "    >>> sorted(node2num_paths.items())\n",
    "    [('A', 1), ('B', 1), ('C', 1), ('D', 1), ('E', 1), ('F', 1), ('G', 2)]\n",
    "    >>> sorted((node, sorted(parents)) for node, parents in node2parents.items())\n",
    "    [('A', ['B']), ('B', ['D']), ('C', ['B']), ('D', ['E']), ('F', ['E']), ('G', ['D', 'F'])]\n",
    "    >>> node2distances, node2num_paths, node2parents = bfs(example_graph(), 'E', 2)\n",
    "    >>> sorted(node2distances.items())\n",
    "    [('B', 2), ('D', 1), ('E', 0), ('F', 1), ('G', 2)]\n",
    "    >>> sorted(node2num_paths.items())\n",
    "    [('B', 1), ('D', 1), ('E', 1), ('F', 1), ('G', 2)]\n",
    "    >>> sorted((node, sorted(parents)) for node, parents in node2parents.items())\n",
    "    [('B', ['D']), ('D', ['E']), ('F', ['E']), ('G', ['D', 'F'])]\n",
    "    \"\"\"\n",
    "    ###TODO\n",
    "    pass"
   ]
  }
 ],
 "metadata": {
  "kernelspec": {
   "display_name": "Python 3",
   "language": "python",
   "name": "python3"
  },
  "language_info": {
   "codemirror_mode": {
    "name": "ipython",
    "version": 3
   },
   "file_extension": ".py",
   "mimetype": "text/x-python",
   "name": "python",
   "nbconvert_exporter": "python",
   "pygments_lexer": "ipython3",
   "version": "3.7.1"
  }
 },
 "nbformat": 4,
 "nbformat_minor": 2
}
